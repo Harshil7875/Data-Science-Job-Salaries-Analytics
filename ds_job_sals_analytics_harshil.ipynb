{
 "cells": [
  {
   "cell_type": "markdown",
   "id": "9154601e",
   "metadata": {
    "papermill": {
     "duration": 0.008656,
     "end_time": "2022-07-03T06:16:02.278404",
     "exception": false,
     "start_time": "2022-07-03T06:16:02.269748",
     "status": "completed"
    },
    "tags": []
   },
   "source": [
    "## <p align = 'center'>Data Science Job Salaries\n",
    "\n",
    "In this notebook, we are going to select the best machine learning model's performance to predict `salary_in_usd` variable using simple machine learning models like Linear Regression, Decision Tree Regressor, KNearest Neighbors Regressor and Random Forest Regressor."
   ]
  },
  {
   "cell_type": "code",
   "execution_count": null,
   "id": "36d5e645",
   "metadata": {
    "_cell_guid": "b1076dfc-b9ad-4769-8c92-a6c4dae69d19",
    "_uuid": "8f2839f25d086af736a60e9eeb907d3b93b6e0e5",
    "execution": {
     "iopub.execute_input": "2022-07-03T06:16:02.296998Z",
     "iopub.status.busy": "2022-07-03T06:16:02.296575Z",
     "iopub.status.idle": "2022-07-03T06:16:02.325138Z",
     "shell.execute_reply": "2022-07-03T06:16:02.324315Z"
    },
    "papermill": {
     "duration": 0.041529,
     "end_time": "2022-07-03T06:16:02.327985",
     "exception": false,
     "start_time": "2022-07-03T06:16:02.286456",
     "status": "completed"
    },
    "tags": []
   },
   "outputs": [],
   "source": [
    "import numpy as np\n",
    "import pandas as pd\n",
    "import os"
   ]
  },
  {
   "cell_type": "markdown",
   "id": "ec35efea",
   "metadata": {
    "papermill": {
     "duration": 0.007839,
     "end_time": "2022-07-03T06:16:02.343471",
     "exception": false,
     "start_time": "2022-07-03T06:16:02.335632",
     "status": "completed"
    },
    "tags": []
   },
   "source": [
    "#### Data Preprocessing"
   ]
  },
  {
   "cell_type": "code",
   "execution_count": 2,
   "id": "975b896d",
   "metadata": {
    "execution": {
     "iopub.execute_input": "2022-07-03T06:16:02.362044Z",
     "iopub.status.busy": "2022-07-03T06:16:02.361697Z",
     "iopub.status.idle": "2022-07-03T06:16:02.390510Z",
     "shell.execute_reply": "2022-07-03T06:16:02.389604Z"
    },
    "papermill": {
     "duration": 0.041035,
     "end_time": "2022-07-03T06:16:02.393039",
     "exception": false,
     "start_time": "2022-07-03T06:16:02.352004",
     "status": "completed"
    },
    "tags": []
   },
   "outputs": [],
   "source": [
    "df = pd.read_csv('ds_salaries.csv', index_col='Unnamed: 0')"
   ]
  },
  {
   "cell_type": "code",
   "execution_count": 3,
   "id": "b7e845de",
   "metadata": {
    "execution": {
     "iopub.execute_input": "2022-07-03T06:16:02.410218Z",
     "iopub.status.busy": "2022-07-03T06:16:02.409855Z",
     "iopub.status.idle": "2022-07-03T06:16:02.430460Z",
     "shell.execute_reply": "2022-07-03T06:16:02.429583Z"
    },
    "papermill": {
     "duration": 0.032043,
     "end_time": "2022-07-03T06:16:02.432920",
     "exception": false,
     "start_time": "2022-07-03T06:16:02.400877",
     "status": "completed"
    },
    "tags": []
   },
   "outputs": [
    {
     "data": {
      "text/html": [
       "<div>\n",
       "<style scoped>\n",
       "    .dataframe tbody tr th:only-of-type {\n",
       "        vertical-align: middle;\n",
       "    }\n",
       "\n",
       "    .dataframe tbody tr th {\n",
       "        vertical-align: top;\n",
       "    }\n",
       "\n",
       "    .dataframe thead th {\n",
       "        text-align: right;\n",
       "    }\n",
       "</style>\n",
       "<table border=\"1\" class=\"dataframe\">\n",
       "  <thead>\n",
       "    <tr style=\"text-align: right;\">\n",
       "      <th></th>\n",
       "      <th>work_year</th>\n",
       "      <th>experience_level</th>\n",
       "      <th>employment_type</th>\n",
       "      <th>job_title</th>\n",
       "      <th>salary</th>\n",
       "      <th>salary_currency</th>\n",
       "      <th>salary_in_usd</th>\n",
       "      <th>employee_residence</th>\n",
       "      <th>remote_ratio</th>\n",
       "      <th>company_location</th>\n",
       "      <th>company_size</th>\n",
       "    </tr>\n",
       "  </thead>\n",
       "  <tbody>\n",
       "    <tr>\n",
       "      <th>0</th>\n",
       "      <td>2020</td>\n",
       "      <td>MI</td>\n",
       "      <td>FT</td>\n",
       "      <td>Data Scientist</td>\n",
       "      <td>70000</td>\n",
       "      <td>EUR</td>\n",
       "      <td>79833</td>\n",
       "      <td>DE</td>\n",
       "      <td>0</td>\n",
       "      <td>DE</td>\n",
       "      <td>L</td>\n",
       "    </tr>\n",
       "    <tr>\n",
       "      <th>1</th>\n",
       "      <td>2020</td>\n",
       "      <td>SE</td>\n",
       "      <td>FT</td>\n",
       "      <td>Machine Learning Scientist</td>\n",
       "      <td>260000</td>\n",
       "      <td>USD</td>\n",
       "      <td>260000</td>\n",
       "      <td>JP</td>\n",
       "      <td>0</td>\n",
       "      <td>JP</td>\n",
       "      <td>S</td>\n",
       "    </tr>\n",
       "    <tr>\n",
       "      <th>2</th>\n",
       "      <td>2020</td>\n",
       "      <td>SE</td>\n",
       "      <td>FT</td>\n",
       "      <td>Big Data Engineer</td>\n",
       "      <td>85000</td>\n",
       "      <td>GBP</td>\n",
       "      <td>109024</td>\n",
       "      <td>GB</td>\n",
       "      <td>50</td>\n",
       "      <td>GB</td>\n",
       "      <td>M</td>\n",
       "    </tr>\n",
       "    <tr>\n",
       "      <th>3</th>\n",
       "      <td>2020</td>\n",
       "      <td>MI</td>\n",
       "      <td>FT</td>\n",
       "      <td>Product Data Analyst</td>\n",
       "      <td>20000</td>\n",
       "      <td>USD</td>\n",
       "      <td>20000</td>\n",
       "      <td>HN</td>\n",
       "      <td>0</td>\n",
       "      <td>HN</td>\n",
       "      <td>S</td>\n",
       "    </tr>\n",
       "    <tr>\n",
       "      <th>4</th>\n",
       "      <td>2020</td>\n",
       "      <td>SE</td>\n",
       "      <td>FT</td>\n",
       "      <td>Machine Learning Engineer</td>\n",
       "      <td>150000</td>\n",
       "      <td>USD</td>\n",
       "      <td>150000</td>\n",
       "      <td>US</td>\n",
       "      <td>50</td>\n",
       "      <td>US</td>\n",
       "      <td>L</td>\n",
       "    </tr>\n",
       "  </tbody>\n",
       "</table>\n",
       "</div>"
      ],
      "text/plain": [
       "   work_year experience_level employment_type                   job_title  \\\n",
       "0       2020               MI              FT              Data Scientist   \n",
       "1       2020               SE              FT  Machine Learning Scientist   \n",
       "2       2020               SE              FT           Big Data Engineer   \n",
       "3       2020               MI              FT        Product Data Analyst   \n",
       "4       2020               SE              FT   Machine Learning Engineer   \n",
       "\n",
       "   salary salary_currency  salary_in_usd employee_residence  remote_ratio  \\\n",
       "0   70000             EUR          79833                 DE             0   \n",
       "1  260000             USD         260000                 JP             0   \n",
       "2   85000             GBP         109024                 GB            50   \n",
       "3   20000             USD          20000                 HN             0   \n",
       "4  150000             USD         150000                 US            50   \n",
       "\n",
       "  company_location company_size  \n",
       "0               DE            L  \n",
       "1               JP            S  \n",
       "2               GB            M  \n",
       "3               HN            S  \n",
       "4               US            L  "
      ]
     },
     "execution_count": 3,
     "metadata": {},
     "output_type": "execute_result"
    }
   ],
   "source": [
    "df.head()"
   ]
  },
  {
   "cell_type": "code",
   "execution_count": 4,
   "id": "a88fd61e",
   "metadata": {
    "execution": {
     "iopub.execute_input": "2022-07-03T06:16:02.451284Z",
     "iopub.status.busy": "2022-07-03T06:16:02.450730Z",
     "iopub.status.idle": "2022-07-03T06:16:02.457246Z",
     "shell.execute_reply": "2022-07-03T06:16:02.456365Z"
    },
    "papermill": {
     "duration": 0.018238,
     "end_time": "2022-07-03T06:16:02.459410",
     "exception": false,
     "start_time": "2022-07-03T06:16:02.441172",
     "status": "completed"
    },
    "tags": []
   },
   "outputs": [],
   "source": [
    "unused_cols = ['work_year', 'salary']\n",
    "df.drop(unused_cols, axis=1, inplace=True )"
   ]
  },
  {
   "cell_type": "code",
   "execution_count": 5,
   "id": "99fd17da",
   "metadata": {
    "execution": {
     "iopub.execute_input": "2022-07-03T06:16:02.478265Z",
     "iopub.status.busy": "2022-07-03T06:16:02.477625Z",
     "iopub.status.idle": "2022-07-03T06:16:02.485315Z",
     "shell.execute_reply": "2022-07-03T06:16:02.484478Z"
    },
    "papermill": {
     "duration": 0.019558,
     "end_time": "2022-07-03T06:16:02.487610",
     "exception": false,
     "start_time": "2022-07-03T06:16:02.468052",
     "status": "completed"
    },
    "tags": []
   },
   "outputs": [],
   "source": [
    "df['remote_ratio'] = df['remote_ratio'].map({0:'No Remote', 50:'Partially Remote', 100:'Full Remote'})"
   ]
  },
  {
   "cell_type": "code",
   "execution_count": 6,
   "id": "90473554",
   "metadata": {
    "execution": {
     "iopub.execute_input": "2022-07-03T06:16:02.505414Z",
     "iopub.status.busy": "2022-07-03T06:16:02.504840Z",
     "iopub.status.idle": "2022-07-03T06:16:02.518443Z",
     "shell.execute_reply": "2022-07-03T06:16:02.517634Z"
    },
    "papermill": {
     "duration": 0.025093,
     "end_time": "2022-07-03T06:16:02.520630",
     "exception": false,
     "start_time": "2022-07-03T06:16:02.495537",
     "status": "completed"
    },
    "tags": []
   },
   "outputs": [
    {
     "data": {
      "text/html": [
       "<div>\n",
       "<style scoped>\n",
       "    .dataframe tbody tr th:only-of-type {\n",
       "        vertical-align: middle;\n",
       "    }\n",
       "\n",
       "    .dataframe tbody tr th {\n",
       "        vertical-align: top;\n",
       "    }\n",
       "\n",
       "    .dataframe thead th {\n",
       "        text-align: right;\n",
       "    }\n",
       "</style>\n",
       "<table border=\"1\" class=\"dataframe\">\n",
       "  <thead>\n",
       "    <tr style=\"text-align: right;\">\n",
       "      <th></th>\n",
       "      <th>experience_level</th>\n",
       "      <th>employment_type</th>\n",
       "      <th>job_title</th>\n",
       "      <th>salary_currency</th>\n",
       "      <th>salary_in_usd</th>\n",
       "      <th>employee_residence</th>\n",
       "      <th>remote_ratio</th>\n",
       "      <th>company_location</th>\n",
       "      <th>company_size</th>\n",
       "    </tr>\n",
       "  </thead>\n",
       "  <tbody>\n",
       "    <tr>\n",
       "      <th>0</th>\n",
       "      <td>MI</td>\n",
       "      <td>FT</td>\n",
       "      <td>Data Scientist</td>\n",
       "      <td>EUR</td>\n",
       "      <td>79833</td>\n",
       "      <td>DE</td>\n",
       "      <td>No Remote</td>\n",
       "      <td>DE</td>\n",
       "      <td>L</td>\n",
       "    </tr>\n",
       "    <tr>\n",
       "      <th>1</th>\n",
       "      <td>SE</td>\n",
       "      <td>FT</td>\n",
       "      <td>Machine Learning Scientist</td>\n",
       "      <td>USD</td>\n",
       "      <td>260000</td>\n",
       "      <td>JP</td>\n",
       "      <td>No Remote</td>\n",
       "      <td>JP</td>\n",
       "      <td>S</td>\n",
       "    </tr>\n",
       "    <tr>\n",
       "      <th>2</th>\n",
       "      <td>SE</td>\n",
       "      <td>FT</td>\n",
       "      <td>Big Data Engineer</td>\n",
       "      <td>GBP</td>\n",
       "      <td>109024</td>\n",
       "      <td>GB</td>\n",
       "      <td>Partially Remote</td>\n",
       "      <td>GB</td>\n",
       "      <td>M</td>\n",
       "    </tr>\n",
       "    <tr>\n",
       "      <th>3</th>\n",
       "      <td>MI</td>\n",
       "      <td>FT</td>\n",
       "      <td>Product Data Analyst</td>\n",
       "      <td>USD</td>\n",
       "      <td>20000</td>\n",
       "      <td>HN</td>\n",
       "      <td>No Remote</td>\n",
       "      <td>HN</td>\n",
       "      <td>S</td>\n",
       "    </tr>\n",
       "    <tr>\n",
       "      <th>4</th>\n",
       "      <td>SE</td>\n",
       "      <td>FT</td>\n",
       "      <td>Machine Learning Engineer</td>\n",
       "      <td>USD</td>\n",
       "      <td>150000</td>\n",
       "      <td>US</td>\n",
       "      <td>Partially Remote</td>\n",
       "      <td>US</td>\n",
       "      <td>L</td>\n",
       "    </tr>\n",
       "  </tbody>\n",
       "</table>\n",
       "</div>"
      ],
      "text/plain": [
       "  experience_level employment_type                   job_title  \\\n",
       "0               MI              FT              Data Scientist   \n",
       "1               SE              FT  Machine Learning Scientist   \n",
       "2               SE              FT           Big Data Engineer   \n",
       "3               MI              FT        Product Data Analyst   \n",
       "4               SE              FT   Machine Learning Engineer   \n",
       "\n",
       "  salary_currency  salary_in_usd employee_residence      remote_ratio  \\\n",
       "0             EUR          79833                 DE         No Remote   \n",
       "1             USD         260000                 JP         No Remote   \n",
       "2             GBP         109024                 GB  Partially Remote   \n",
       "3             USD          20000                 HN         No Remote   \n",
       "4             USD         150000                 US  Partially Remote   \n",
       "\n",
       "  company_location company_size  \n",
       "0               DE            L  \n",
       "1               JP            S  \n",
       "2               GB            M  \n",
       "3               HN            S  \n",
       "4               US            L  "
      ]
     },
     "execution_count": 6,
     "metadata": {},
     "output_type": "execute_result"
    }
   ],
   "source": [
    "df.head()"
   ]
  },
  {
   "cell_type": "markdown",
   "id": "9993aafd",
   "metadata": {
    "papermill": {
     "duration": 0.008348,
     "end_time": "2022-07-03T06:16:02.537710",
     "exception": false,
     "start_time": "2022-07-03T06:16:02.529362",
     "status": "completed"
    },
    "tags": []
   },
   "source": [
    "We are trying to find columns with high cardinality (more than 10 unique values) and drop them from the data frame."
   ]
  },
  {
   "cell_type": "code",
   "execution_count": 7,
   "id": "14f0818b",
   "metadata": {
    "execution": {
     "iopub.execute_input": "2022-07-03T06:16:02.556121Z",
     "iopub.status.busy": "2022-07-03T06:16:02.555538Z",
     "iopub.status.idle": "2022-07-03T06:16:02.567230Z",
     "shell.execute_reply": "2022-07-03T06:16:02.565772Z"
    },
    "papermill": {
     "duration": 0.023599,
     "end_time": "2022-07-03T06:16:02.569493",
     "exception": false,
     "start_time": "2022-07-03T06:16:02.545894",
     "status": "completed"
    },
    "tags": []
   },
   "outputs": [
    {
     "data": {
      "text/plain": [
       "['job_title', 'salary_currency', 'employee_residence', 'company_location']"
      ]
     },
     "execution_count": 7,
     "metadata": {},
     "output_type": "execute_result"
    }
   ],
   "source": [
    "high_cardinality_cols = [col for col in df.columns if df[col].nunique()>10 and df[col].dtype == 'object']\n",
    "high_cardinality_cols"
   ]
  },
  {
   "cell_type": "code",
   "execution_count": 8,
   "id": "48449d7e",
   "metadata": {
    "execution": {
     "iopub.execute_input": "2022-07-03T06:16:02.588300Z",
     "iopub.status.busy": "2022-07-03T06:16:02.587591Z",
     "iopub.status.idle": "2022-07-03T06:16:02.601343Z",
     "shell.execute_reply": "2022-07-03T06:16:02.600581Z"
    },
    "papermill": {
     "duration": 0.02552,
     "end_time": "2022-07-03T06:16:02.603438",
     "exception": false,
     "start_time": "2022-07-03T06:16:02.577918",
     "status": "completed"
    },
    "tags": []
   },
   "outputs": [
    {
     "data": {
      "text/html": [
       "<div>\n",
       "<style scoped>\n",
       "    .dataframe tbody tr th:only-of-type {\n",
       "        vertical-align: middle;\n",
       "    }\n",
       "\n",
       "    .dataframe tbody tr th {\n",
       "        vertical-align: top;\n",
       "    }\n",
       "\n",
       "    .dataframe thead th {\n",
       "        text-align: right;\n",
       "    }\n",
       "</style>\n",
       "<table border=\"1\" class=\"dataframe\">\n",
       "  <thead>\n",
       "    <tr style=\"text-align: right;\">\n",
       "      <th></th>\n",
       "      <th>experience_level</th>\n",
       "      <th>employment_type</th>\n",
       "      <th>salary_in_usd</th>\n",
       "      <th>remote_ratio</th>\n",
       "      <th>company_size</th>\n",
       "    </tr>\n",
       "  </thead>\n",
       "  <tbody>\n",
       "    <tr>\n",
       "      <th>0</th>\n",
       "      <td>MI</td>\n",
       "      <td>FT</td>\n",
       "      <td>79833</td>\n",
       "      <td>No Remote</td>\n",
       "      <td>L</td>\n",
       "    </tr>\n",
       "    <tr>\n",
       "      <th>1</th>\n",
       "      <td>SE</td>\n",
       "      <td>FT</td>\n",
       "      <td>260000</td>\n",
       "      <td>No Remote</td>\n",
       "      <td>S</td>\n",
       "    </tr>\n",
       "    <tr>\n",
       "      <th>2</th>\n",
       "      <td>SE</td>\n",
       "      <td>FT</td>\n",
       "      <td>109024</td>\n",
       "      <td>Partially Remote</td>\n",
       "      <td>M</td>\n",
       "    </tr>\n",
       "    <tr>\n",
       "      <th>3</th>\n",
       "      <td>MI</td>\n",
       "      <td>FT</td>\n",
       "      <td>20000</td>\n",
       "      <td>No Remote</td>\n",
       "      <td>S</td>\n",
       "    </tr>\n",
       "    <tr>\n",
       "      <th>4</th>\n",
       "      <td>SE</td>\n",
       "      <td>FT</td>\n",
       "      <td>150000</td>\n",
       "      <td>Partially Remote</td>\n",
       "      <td>L</td>\n",
       "    </tr>\n",
       "  </tbody>\n",
       "</table>\n",
       "</div>"
      ],
      "text/plain": [
       "  experience_level employment_type  salary_in_usd      remote_ratio  \\\n",
       "0               MI              FT          79833         No Remote   \n",
       "1               SE              FT         260000         No Remote   \n",
       "2               SE              FT         109024  Partially Remote   \n",
       "3               MI              FT          20000         No Remote   \n",
       "4               SE              FT         150000  Partially Remote   \n",
       "\n",
       "  company_size  \n",
       "0            L  \n",
       "1            S  \n",
       "2            M  \n",
       "3            S  \n",
       "4            L  "
      ]
     },
     "execution_count": 8,
     "metadata": {},
     "output_type": "execute_result"
    }
   ],
   "source": [
    "# drop them\n",
    "df.drop(high_cardinality_cols, axis=1, inplace=True)\n",
    "df.head()"
   ]
  },
  {
   "cell_type": "code",
   "execution_count": 9,
   "id": "7e5049fc",
   "metadata": {
    "execution": {
     "iopub.execute_input": "2022-07-03T06:16:02.623449Z",
     "iopub.status.busy": "2022-07-03T06:16:02.622766Z",
     "iopub.status.idle": "2022-07-03T06:16:03.778530Z",
     "shell.execute_reply": "2022-07-03T06:16:03.777303Z"
    },
    "papermill": {
     "duration": 1.169126,
     "end_time": "2022-07-03T06:16:03.781217",
     "exception": false,
     "start_time": "2022-07-03T06:16:02.612091",
     "status": "completed"
    },
    "tags": []
   },
   "outputs": [],
   "source": [
    "from sklearn.model_selection import train_test_split\n",
    "\n",
    "X = df.drop(['salary_in_usd'], axis=1)\n",
    "y = df['salary_in_usd']\n",
    "\n",
    "X_train, X_test, y_train, y_test = train_test_split(X, y, test_size=0.5, random_state=1)"
   ]
  },
  {
   "cell_type": "markdown",
   "id": "4b4b9a29",
   "metadata": {
    "papermill": {
     "duration": 0.008668,
     "end_time": "2022-07-03T06:16:03.799257",
     "exception": false,
     "start_time": "2022-07-03T06:16:03.790589",
     "status": "completed"
    },
    "tags": []
   },
   "source": [
    "Now that our data frame looks good, we are going to try and preprocess the categorical data into numbers. There are two options that we can use.\n",
    "1. Ordinal Encoder\n",
    "2. One Hot Encoder"
   ]
  },
  {
   "cell_type": "markdown",
   "id": "4d513bfa",
   "metadata": {
    "papermill": {
     "duration": 0.00822,
     "end_time": "2022-07-03T06:16:03.816227",
     "exception": false,
     "start_time": "2022-07-03T06:16:03.808007",
     "status": "completed"
    },
    "tags": []
   },
   "source": [
    "### Ordinal Encoder"
   ]
  },
  {
   "cell_type": "code",
   "execution_count": 10,
   "id": "baa4d81f",
   "metadata": {
    "execution": {
     "iopub.execute_input": "2022-07-03T06:16:03.836337Z",
     "iopub.status.busy": "2022-07-03T06:16:03.835624Z",
     "iopub.status.idle": "2022-07-03T06:16:03.839930Z",
     "shell.execute_reply": "2022-07-03T06:16:03.838938Z"
    },
    "papermill": {
     "duration": 0.01679,
     "end_time": "2022-07-03T06:16:03.842048",
     "exception": false,
     "start_time": "2022-07-03T06:16:03.825258",
     "status": "completed"
    },
    "tags": []
   },
   "outputs": [],
   "source": [
    "from sklearn.preprocessing import OrdinalEncoder"
   ]
  },
  {
   "cell_type": "code",
   "execution_count": 11,
   "id": "643571b7",
   "metadata": {
    "execution": {
     "iopub.execute_input": "2022-07-03T06:16:03.861515Z",
     "iopub.status.busy": "2022-07-03T06:16:03.860839Z",
     "iopub.status.idle": "2022-07-03T06:16:03.870434Z",
     "shell.execute_reply": "2022-07-03T06:16:03.869668Z"
    },
    "papermill": {
     "duration": 0.022521,
     "end_time": "2022-07-03T06:16:03.873188",
     "exception": false,
     "start_time": "2022-07-03T06:16:03.850667",
     "status": "completed"
    },
    "tags": []
   },
   "outputs": [],
   "source": [
    "my_encoder = OrdinalEncoder()\n",
    "ordinal_X_train = pd.DataFrame(my_encoder.fit_transform(X_train))\n",
    "ordinal_X_test = pd.DataFrame(my_encoder.transform(X_test))\n",
    "\n",
    "ordinal_X_train.columns = X_train.columns\n",
    "ordinal_X_test.columns = X_test.columns"
   ]
  },
  {
   "cell_type": "markdown",
   "id": "519b9005",
   "metadata": {
    "papermill": {
     "duration": 0.009038,
     "end_time": "2022-07-03T06:16:03.891196",
     "exception": false,
     "start_time": "2022-07-03T06:16:03.882158",
     "status": "completed"
    },
    "tags": []
   },
   "source": [
    "### OneHot Encoder"
   ]
  },
  {
   "cell_type": "code",
   "execution_count": 12,
   "id": "9b999af2",
   "metadata": {
    "execution": {
     "iopub.execute_input": "2022-07-03T06:16:03.910878Z",
     "iopub.status.busy": "2022-07-03T06:16:03.910176Z",
     "iopub.status.idle": "2022-07-03T06:16:03.924550Z",
     "shell.execute_reply": "2022-07-03T06:16:03.923628Z"
    },
    "papermill": {
     "duration": 0.026994,
     "end_time": "2022-07-03T06:16:03.926992",
     "exception": false,
     "start_time": "2022-07-03T06:16:03.899998",
     "status": "completed"
    },
    "tags": []
   },
   "outputs": [],
   "source": [
    "OH_X_train = pd.get_dummies(X_train)\n",
    "OH_X_test = pd.get_dummies(X_test)"
   ]
  },
  {
   "cell_type": "code",
   "execution_count": 13,
   "id": "3b1db66e",
   "metadata": {
    "execution": {
     "iopub.execute_input": "2022-07-03T06:16:03.946402Z",
     "iopub.status.busy": "2022-07-03T06:16:03.945697Z",
     "iopub.status.idle": "2022-07-03T06:16:03.951655Z",
     "shell.execute_reply": "2022-07-03T06:16:03.950872Z"
    },
    "papermill": {
     "duration": 0.018061,
     "end_time": "2022-07-03T06:16:03.953662",
     "exception": false,
     "start_time": "2022-07-03T06:16:03.935601",
     "status": "completed"
    },
    "tags": []
   },
   "outputs": [
    {
     "data": {
      "text/plain": [
       "True"
      ]
     },
     "execution_count": 13,
     "metadata": {},
     "output_type": "execute_result"
    }
   ],
   "source": [
    "len(OH_X_train.columns) == len(OH_X_test.columns)"
   ]
  },
  {
   "cell_type": "code",
   "execution_count": 14,
   "id": "85c05125",
   "metadata": {
    "execution": {
     "iopub.execute_input": "2022-07-03T06:16:04.010749Z",
     "iopub.status.busy": "2022-07-03T06:16:04.010362Z",
     "iopub.status.idle": "2022-07-03T06:16:04.223804Z",
     "shell.execute_reply": "2022-07-03T06:16:04.222526Z"
    },
    "papermill": {
     "duration": 0.226797,
     "end_time": "2022-07-03T06:16:04.226780",
     "exception": false,
     "start_time": "2022-07-03T06:16:03.999983",
     "status": "completed"
    },
    "tags": []
   },
   "outputs": [],
   "source": [
    "from sklearn.linear_model import LinearRegression\n",
    "from sklearn.tree import DecisionTreeRegressor\n",
    "from sklearn.neighbors import KNeighborsRegressor\n",
    "from sklearn.ensemble import RandomForestRegressor\n",
    "\n",
    "from sklearn.metrics import mean_absolute_error"
   ]
  },
  {
   "cell_type": "code",
   "execution_count": 15,
   "id": "5df62c7e",
   "metadata": {
    "execution": {
     "iopub.execute_input": "2022-07-03T06:16:04.247781Z",
     "iopub.status.busy": "2022-07-03T06:16:04.247386Z",
     "iopub.status.idle": "2022-07-03T06:16:04.253471Z",
     "shell.execute_reply": "2022-07-03T06:16:04.252622Z"
    },
    "papermill": {
     "duration": 0.018801,
     "end_time": "2022-07-03T06:16:04.255478",
     "exception": false,
     "start_time": "2022-07-03T06:16:04.236677",
     "status": "completed"
    },
    "tags": []
   },
   "outputs": [],
   "source": [
    "def print_mae(model, X_train, X_test, encoding_type: str, model_name: str):\n",
    "    \n",
    "    my_model = model\n",
    "    my_model.fit(X_train, y_train)\n",
    "    my_preds = my_model.predict(X_test)\n",
    "\n",
    "    my_mae = mean_absolute_error(y_test, my_preds)\n",
    "    \n",
    "    print(f\"{model_name} :: {encoding_type} :: {my_mae}\")"
   ]
  },
  {
   "cell_type": "code",
   "execution_count": 16,
   "id": "11257d94",
   "metadata": {
    "execution": {
     "iopub.execute_input": "2022-07-03T06:16:04.276872Z",
     "iopub.status.busy": "2022-07-03T06:16:04.276152Z",
     "iopub.status.idle": "2022-07-03T06:16:04.280965Z",
     "shell.execute_reply": "2022-07-03T06:16:04.280108Z"
    },
    "papermill": {
     "duration": 0.018018,
     "end_time": "2022-07-03T06:16:04.283094",
     "exception": false,
     "start_time": "2022-07-03T06:16:04.265076",
     "status": "completed"
    },
    "tags": []
   },
   "outputs": [],
   "source": [
    "models = {'Linear Regression':LinearRegression(),\n",
    "          'Decision Tree Regressor':DecisionTreeRegressor(random_state=1), \n",
    "          'KNN Regressor':KNeighborsRegressor(), \n",
    "          'Random Forest Regressor':RandomForestRegressor(random_state=1)}"
   ]
  },
  {
   "cell_type": "markdown",
   "id": "2c74e66f",
   "metadata": {
    "papermill": {
     "duration": 0.00941,
     "end_time": "2022-07-03T06:16:04.301342",
     "exception": false,
     "start_time": "2022-07-03T06:16:04.291932",
     "status": "completed"
    },
    "tags": []
   },
   "source": [
    "#### Ordinal Encoder MAE"
   ]
  },
  {
   "cell_type": "code",
   "execution_count": 17,
   "id": "3962817f",
   "metadata": {
    "execution": {
     "iopub.execute_input": "2022-07-03T06:16:04.322160Z",
     "iopub.status.busy": "2022-07-03T06:16:04.321583Z",
     "iopub.status.idle": "2022-07-03T06:16:04.533684Z",
     "shell.execute_reply": "2022-07-03T06:16:04.532123Z"
    },
    "papermill": {
     "duration": 0.225986,
     "end_time": "2022-07-03T06:16:04.536827",
     "exception": false,
     "start_time": "2022-07-03T06:16:04.310841",
     "status": "completed"
    },
    "tags": []
   },
   "outputs": [
    {
     "name": "stdout",
     "output_type": "stream",
     "text": [
      "Linear Regression :: Ordinal :: 44957.03891143329\n",
      "Decision Tree Regressor :: Ordinal :: 44415.610846094925\n",
      "KNN Regressor :: Ordinal :: 49258.571052631574\n",
      "Random Forest Regressor :: Ordinal :: 42798.90597758126\n"
     ]
    }
   ],
   "source": [
    "for (model_name, model) in models.items():\n",
    "    print_mae(model=model, \n",
    "              X_train=ordinal_X_train, \n",
    "              X_test=ordinal_X_test, \n",
    "              encoding_type='Ordinal', \n",
    "              model_name=model_name)"
   ]
  },
  {
   "cell_type": "markdown",
   "id": "6740584a",
   "metadata": {
    "papermill": {
     "duration": 0.008496,
     "end_time": "2022-07-03T06:16:04.555174",
     "exception": false,
     "start_time": "2022-07-03T06:16:04.546678",
     "status": "completed"
    },
    "tags": []
   },
   "source": [
    "#### One Hot Encoder MAE"
   ]
  },
  {
   "cell_type": "code",
   "execution_count": 18,
   "id": "98cc59fc",
   "metadata": {
    "execution": {
     "iopub.execute_input": "2022-07-03T06:16:04.575484Z",
     "iopub.status.busy": "2022-07-03T06:16:04.574248Z",
     "iopub.status.idle": "2022-07-03T06:16:04.783953Z",
     "shell.execute_reply": "2022-07-03T06:16:04.781972Z"
    },
    "papermill": {
     "duration": 0.222627,
     "end_time": "2022-07-03T06:16:04.786602",
     "exception": false,
     "start_time": "2022-07-03T06:16:04.563975",
     "status": "completed"
    },
    "tags": []
   },
   "outputs": [
    {
     "name": "stdout",
     "output_type": "stream",
     "text": [
      "Linear Regression :: One Hot :: 41667.48684210526\n",
      "Decision Tree Regressor :: One Hot :: 44663.99132855106\n",
      "KNN Regressor :: One Hot :: 43099.58552631579\n",
      "Random Forest Regressor :: One Hot :: 43119.25430596365\n"
     ]
    }
   ],
   "source": [
    "for (model_name, model) in models.items():\n",
    "    print_mae(model=model, \n",
    "              X_train=OH_X_train, \n",
    "              X_test=OH_X_test, \n",
    "              encoding_type='One Hot', \n",
    "              model_name=model_name)"
   ]
  }
 ],
 "metadata": {
  "kernelspec": {
   "display_name": "Python 3",
   "language": "python",
   "name": "python3"
  },
  "language_info": {
   "codemirror_mode": {
    "name": "ipython",
    "version": 3
   },
   "file_extension": ".py",
   "mimetype": "text/x-python",
   "name": "python",
   "nbconvert_exporter": "python",
   "pygments_lexer": "ipython3",
   "version": "3.7.12"
  },
  "papermill": {
   "default_parameters": {},
   "duration": 13.870871,
   "end_time": "2022-07-03T06:16:05.553530",
   "environment_variables": {},
   "exception": null,
   "input_path": "__notebook__.ipynb",
   "output_path": "__notebook__.ipynb",
   "parameters": {},
   "start_time": "2022-07-03T06:15:51.682659",
   "version": "2.3.4"
  }
 },
 "nbformat": 4,
 "nbformat_minor": 5
}
